{
 "cells": [
  {
   "cell_type": "markdown",
   "id": "79510e01-6921-458e-a0f7-12e2b35db361",
   "metadata": {},
   "source": [
    "**UDA CITY PROJECT**\n",
    "\n",
    "in this project I chose dataset from Airbnb website which is 'listings'.\n",
    "\n",
    "## 1. Business Understanding\n",
    "- **Objective**: The goal is to understand the factors that influence the pricing of real estate properties and predict the price based on certain features.\n",
    "- **Questions**:\n",
    "  - Q1: Is a home/apartment with a minimum night stay more expensive?\n",
    "  - Q2: Does the price increase with an increase in space?\n",
    "  - Q3: Which type of room is usually more busy (less available)?\n",
    "\n",
    "## 2. Data Understanding\n",
    "- The dataset consists of real estate listings with features like latitude, longitude, room type, minimum nights, availability, and price.\n",
    "- Understanding the columns that contain missing values and handling them appropriately.\n"
   ]
  },
  {
   "cell_type": "code",
   "execution_count": 1,
   "id": "a6d2406c-e243-4aa0-b576-57ec3512e7d2",
   "metadata": {},
   "outputs": [],
   "source": [
    "#here I imported the nacassery files.\n",
    "import pandas as pd\n",
    "import numpy as np\n",
    "import matplotlib as plt\n",
    "%matplotlib inline\n",
    "from IPython import display\n",
    "from sklearn.linear_model import LinearRegression\n",
    "from sklearn.model_selection import train_test_split\n",
    "from sklearn.metrics import r2_score, mean_squared_error\n",
    "import seaborn as sns\n",
    "\n",
    "#Read the csv file \n",
    "df = pd.read_csv('listings.csv')"
   ]
  },
  {
   "cell_type": "code",
   "execution_count": 2,
   "id": "f87d1b17-8219-404e-95c5-e51ae39a2d50",
   "metadata": {},
   "outputs": [
    {
     "data": {
      "text/html": [
       "<div>\n",
       "<style scoped>\n",
       "    .dataframe tbody tr th:only-of-type {\n",
       "        vertical-align: middle;\n",
       "    }\n",
       "\n",
       "    .dataframe tbody tr th {\n",
       "        vertical-align: top;\n",
       "    }\n",
       "\n",
       "    .dataframe thead th {\n",
       "        text-align: right;\n",
       "    }\n",
       "</style>\n",
       "<table border=\"1\" class=\"dataframe\">\n",
       "  <thead>\n",
       "    <tr style=\"text-align: right;\">\n",
       "      <th></th>\n",
       "      <th>id</th>\n",
       "      <th>name</th>\n",
       "      <th>host_id</th>\n",
       "      <th>host_name</th>\n",
       "      <th>neighbourhood_group</th>\n",
       "      <th>neighbourhood</th>\n",
       "      <th>latitude</th>\n",
       "      <th>longitude</th>\n",
       "      <th>room_type</th>\n",
       "      <th>price</th>\n",
       "      <th>minimum_nights</th>\n",
       "      <th>number_of_reviews</th>\n",
       "      <th>last_review</th>\n",
       "      <th>reviews_per_month</th>\n",
       "      <th>calculated_host_listings_count</th>\n",
       "      <th>availability_365</th>\n",
       "      <th>number_of_reviews_ltm</th>\n",
       "      <th>license</th>\n",
       "    </tr>\n",
       "  </thead>\n",
       "  <tbody>\n",
       "    <tr>\n",
       "      <th>0</th>\n",
       "      <td>18674</td>\n",
       "      <td>Huge flat for 8 people close to Sagrada Familia</td>\n",
       "      <td>71615</td>\n",
       "      <td>Mireia  Maria</td>\n",
       "      <td>Eixample</td>\n",
       "      <td>la Sagrada Família</td>\n",
       "      <td>41.405560</td>\n",
       "      <td>2.17262</td>\n",
       "      <td>Entire home/apt</td>\n",
       "      <td>257.0</td>\n",
       "      <td>1</td>\n",
       "      <td>41</td>\n",
       "      <td>2024-05-02</td>\n",
       "      <td>0.30</td>\n",
       "      <td>27</td>\n",
       "      <td>177</td>\n",
       "      <td>5</td>\n",
       "      <td>HUTB-002062</td>\n",
       "    </tr>\n",
       "    <tr>\n",
       "      <th>1</th>\n",
       "      <td>23197</td>\n",
       "      <td>Forum CCIB DeLuxe, Spacious, Large Balcony, relax</td>\n",
       "      <td>90417</td>\n",
       "      <td>Etain (Marnie)</td>\n",
       "      <td>Sant Martí</td>\n",
       "      <td>el Besòs i el Maresme</td>\n",
       "      <td>41.412432</td>\n",
       "      <td>2.21975</td>\n",
       "      <td>Entire home/apt</td>\n",
       "      <td>249.0</td>\n",
       "      <td>3</td>\n",
       "      <td>78</td>\n",
       "      <td>2024-05-20</td>\n",
       "      <td>0.48</td>\n",
       "      <td>1</td>\n",
       "      <td>178</td>\n",
       "      <td>7</td>\n",
       "      <td>HUTB005057</td>\n",
       "    </tr>\n",
       "    <tr>\n",
       "      <th>2</th>\n",
       "      <td>32711</td>\n",
       "      <td>Sagrada Familia area - Còrsega 1</td>\n",
       "      <td>135703</td>\n",
       "      <td>Nick</td>\n",
       "      <td>Gràcia</td>\n",
       "      <td>el Camp d'en Grassot i Gràcia Nova</td>\n",
       "      <td>41.405660</td>\n",
       "      <td>2.17015</td>\n",
       "      <td>Entire home/apt</td>\n",
       "      <td>240.0</td>\n",
       "      <td>1</td>\n",
       "      <td>121</td>\n",
       "      <td>2024-06-05</td>\n",
       "      <td>0.77</td>\n",
       "      <td>2</td>\n",
       "      <td>204</td>\n",
       "      <td>30</td>\n",
       "      <td>HUTB-001722</td>\n",
       "    </tr>\n",
       "    <tr>\n",
       "      <th>3</th>\n",
       "      <td>34241</td>\n",
       "      <td>Stylish Top Floor Apartment - Ramblas Plaza Real</td>\n",
       "      <td>73163</td>\n",
       "      <td>Andres</td>\n",
       "      <td>Ciutat Vella</td>\n",
       "      <td>el Barri Gòtic</td>\n",
       "      <td>41.380620</td>\n",
       "      <td>2.17517</td>\n",
       "      <td>Entire home/apt</td>\n",
       "      <td>229.0</td>\n",
       "      <td>5</td>\n",
       "      <td>13</td>\n",
       "      <td>2024-05-06</td>\n",
       "      <td>0.08</td>\n",
       "      <td>3</td>\n",
       "      <td>70</td>\n",
       "      <td>5</td>\n",
       "      <td>Exempt</td>\n",
       "    </tr>\n",
       "    <tr>\n",
       "      <th>4</th>\n",
       "      <td>34981</td>\n",
       "      <td>VIDRE HOME PLAZA REAL on LAS RAMBLAS</td>\n",
       "      <td>73163</td>\n",
       "      <td>Andres</td>\n",
       "      <td>Ciutat Vella</td>\n",
       "      <td>el Barri Gòtic</td>\n",
       "      <td>41.379780</td>\n",
       "      <td>2.17623</td>\n",
       "      <td>Entire home/apt</td>\n",
       "      <td>450.0</td>\n",
       "      <td>5</td>\n",
       "      <td>234</td>\n",
       "      <td>2024-06-03</td>\n",
       "      <td>1.40</td>\n",
       "      <td>3</td>\n",
       "      <td>222</td>\n",
       "      <td>29</td>\n",
       "      <td>HUTB-150671</td>\n",
       "    </tr>\n",
       "  </tbody>\n",
       "</table>\n",
       "</div>"
      ],
      "text/plain": [
       "      id                                               name  host_id  \\\n",
       "0  18674    Huge flat for 8 people close to Sagrada Familia    71615   \n",
       "1  23197  Forum CCIB DeLuxe, Spacious, Large Balcony, relax    90417   \n",
       "2  32711                   Sagrada Familia area - Còrsega 1   135703   \n",
       "3  34241   Stylish Top Floor Apartment - Ramblas Plaza Real    73163   \n",
       "4  34981               VIDRE HOME PLAZA REAL on LAS RAMBLAS    73163   \n",
       "\n",
       "        host_name neighbourhood_group                       neighbourhood  \\\n",
       "0   Mireia  Maria            Eixample                  la Sagrada Família   \n",
       "1  Etain (Marnie)          Sant Martí               el Besòs i el Maresme   \n",
       "2            Nick              Gràcia  el Camp d'en Grassot i Gràcia Nova   \n",
       "3          Andres        Ciutat Vella                      el Barri Gòtic   \n",
       "4          Andres        Ciutat Vella                      el Barri Gòtic   \n",
       "\n",
       "    latitude  longitude        room_type  price  minimum_nights  \\\n",
       "0  41.405560    2.17262  Entire home/apt  257.0               1   \n",
       "1  41.412432    2.21975  Entire home/apt  249.0               3   \n",
       "2  41.405660    2.17015  Entire home/apt  240.0               1   \n",
       "3  41.380620    2.17517  Entire home/apt  229.0               5   \n",
       "4  41.379780    2.17623  Entire home/apt  450.0               5   \n",
       "\n",
       "   number_of_reviews last_review  reviews_per_month  \\\n",
       "0                 41  2024-05-02               0.30   \n",
       "1                 78  2024-05-20               0.48   \n",
       "2                121  2024-06-05               0.77   \n",
       "3                 13  2024-05-06               0.08   \n",
       "4                234  2024-06-03               1.40   \n",
       "\n",
       "   calculated_host_listings_count  availability_365  number_of_reviews_ltm  \\\n",
       "0                              27               177                      5   \n",
       "1                               1               178                      7   \n",
       "2                               2               204                     30   \n",
       "3                               3                70                      5   \n",
       "4                               3               222                     29   \n",
       "\n",
       "       license  \n",
       "0  HUTB-002062  \n",
       "1   HUTB005057  \n",
       "2  HUTB-001722  \n",
       "3       Exempt  \n",
       "4  HUTB-150671  "
      ]
     },
     "execution_count": 2,
     "metadata": {},
     "output_type": "execute_result"
    }
   ],
   "source": [
    "#Display the first 5 rows\n",
    "df.head()"
   ]
  },
  {
   "cell_type": "code",
   "execution_count": 4,
   "id": "f874d00e-0e75-4a58-9ecc-dbaf9e53d129",
   "metadata": {},
   "outputs": [
    {
     "name": "stdout",
     "output_type": "stream",
     "text": [
      "Columns with missing values: {'last_review', 'price', 'license', 'reviews_per_month', 'host_name'}\n"
     ]
    }
   ],
   "source": [
    "#the columns that have missing values\n",
    "missing_value_cols = set(df.columns[df.isnull().sum() != 0])\n",
    "print(f\"Columns with missing values: {missing_value_cols}\")"
   ]
  },
  {
   "cell_type": "markdown",
   "id": "31a12ae3-635e-421b-9176-9014cbf941d0",
   "metadata": {},
   "source": [
    "## 3. Data Preparation\n",
    "- **Handling Missing Values**: We removed rows with missing values using `dropna()`.\n",
    "  - **Justification**: This method was chosen to ensure the integrity of the dataset, and it was appropriate because the dataset is large, so removing rows won't significantly impact the analysis.\n",
    "- **Feature Selection**: Focused on specific columns that are relevant for analysis."
   ]
  },
  {
   "cell_type": "code",
   "execution_count": 5,
   "id": "24b455ec-1900-43f1-975e-68d997c6303d",
   "metadata": {},
   "outputs": [],
   "source": [
    "#remove all rows that have missing values.\n",
    "new_df = df.dropna(axis= 0)"
   ]
  },
  {
   "cell_type": "code",
   "execution_count": 7,
   "id": "1de64596-07f8-421a-97e7-831251161c10",
   "metadata": {},
   "outputs": [
    {
     "name": "stdout",
     "output_type": "stream",
     "text": [
      "Original dataframe shape: (18925, 18)\n",
      "New dataframe shape after dropping missing values: (9640, 18)\n"
     ]
    }
   ],
   "source": [
    "# Check the shape of the original and new dataframes\n",
    "print(f\"Original dataframe shape: {df.shape}\")\n",
    "print(f\"New dataframe shape after dropping missing values: {new_df.shape}\")"
   ]
  },
  {
   "cell_type": "code",
   "execution_count": 8,
   "id": "b85f5d41-7491-44c0-830d-5a968174b02a",
   "metadata": {},
   "outputs": [
    {
     "data": {
      "text/html": [
       "<div>\n",
       "<style scoped>\n",
       "    .dataframe tbody tr th:only-of-type {\n",
       "        vertical-align: middle;\n",
       "    }\n",
       "\n",
       "    .dataframe tbody tr th {\n",
       "        vertical-align: top;\n",
       "    }\n",
       "\n",
       "    .dataframe thead th {\n",
       "        text-align: right;\n",
       "    }\n",
       "</style>\n",
       "<table border=\"1\" class=\"dataframe\">\n",
       "  <thead>\n",
       "    <tr style=\"text-align: right;\">\n",
       "      <th></th>\n",
       "      <th>id</th>\n",
       "      <th>name</th>\n",
       "      <th>host_id</th>\n",
       "      <th>host_name</th>\n",
       "      <th>neighbourhood_group</th>\n",
       "      <th>neighbourhood</th>\n",
       "      <th>latitude</th>\n",
       "      <th>longitude</th>\n",
       "      <th>room_type</th>\n",
       "      <th>price</th>\n",
       "      <th>minimum_nights</th>\n",
       "      <th>number_of_reviews</th>\n",
       "      <th>last_review</th>\n",
       "      <th>reviews_per_month</th>\n",
       "      <th>calculated_host_listings_count</th>\n",
       "      <th>availability_365</th>\n",
       "      <th>number_of_reviews_ltm</th>\n",
       "      <th>license</th>\n",
       "    </tr>\n",
       "  </thead>\n",
       "  <tbody>\n",
       "    <tr>\n",
       "      <th>0</th>\n",
       "      <td>18674</td>\n",
       "      <td>Huge flat for 8 people close to Sagrada Familia</td>\n",
       "      <td>71615</td>\n",
       "      <td>Mireia  Maria</td>\n",
       "      <td>Eixample</td>\n",
       "      <td>la Sagrada Família</td>\n",
       "      <td>41.405560</td>\n",
       "      <td>2.17262</td>\n",
       "      <td>Entire home/apt</td>\n",
       "      <td>257.0</td>\n",
       "      <td>1</td>\n",
       "      <td>41</td>\n",
       "      <td>2024-05-02</td>\n",
       "      <td>0.30</td>\n",
       "      <td>27</td>\n",
       "      <td>177</td>\n",
       "      <td>5</td>\n",
       "      <td>HUTB-002062</td>\n",
       "    </tr>\n",
       "    <tr>\n",
       "      <th>1</th>\n",
       "      <td>23197</td>\n",
       "      <td>Forum CCIB DeLuxe, Spacious, Large Balcony, relax</td>\n",
       "      <td>90417</td>\n",
       "      <td>Etain (Marnie)</td>\n",
       "      <td>Sant Martí</td>\n",
       "      <td>el Besòs i el Maresme</td>\n",
       "      <td>41.412432</td>\n",
       "      <td>2.21975</td>\n",
       "      <td>Entire home/apt</td>\n",
       "      <td>249.0</td>\n",
       "      <td>3</td>\n",
       "      <td>78</td>\n",
       "      <td>2024-05-20</td>\n",
       "      <td>0.48</td>\n",
       "      <td>1</td>\n",
       "      <td>178</td>\n",
       "      <td>7</td>\n",
       "      <td>HUTB005057</td>\n",
       "    </tr>\n",
       "    <tr>\n",
       "      <th>2</th>\n",
       "      <td>32711</td>\n",
       "      <td>Sagrada Familia area - Còrsega 1</td>\n",
       "      <td>135703</td>\n",
       "      <td>Nick</td>\n",
       "      <td>Gràcia</td>\n",
       "      <td>el Camp d'en Grassot i Gràcia Nova</td>\n",
       "      <td>41.405660</td>\n",
       "      <td>2.17015</td>\n",
       "      <td>Entire home/apt</td>\n",
       "      <td>240.0</td>\n",
       "      <td>1</td>\n",
       "      <td>121</td>\n",
       "      <td>2024-06-05</td>\n",
       "      <td>0.77</td>\n",
       "      <td>2</td>\n",
       "      <td>204</td>\n",
       "      <td>30</td>\n",
       "      <td>HUTB-001722</td>\n",
       "    </tr>\n",
       "    <tr>\n",
       "      <th>3</th>\n",
       "      <td>34241</td>\n",
       "      <td>Stylish Top Floor Apartment - Ramblas Plaza Real</td>\n",
       "      <td>73163</td>\n",
       "      <td>Andres</td>\n",
       "      <td>Ciutat Vella</td>\n",
       "      <td>el Barri Gòtic</td>\n",
       "      <td>41.380620</td>\n",
       "      <td>2.17517</td>\n",
       "      <td>Entire home/apt</td>\n",
       "      <td>229.0</td>\n",
       "      <td>5</td>\n",
       "      <td>13</td>\n",
       "      <td>2024-05-06</td>\n",
       "      <td>0.08</td>\n",
       "      <td>3</td>\n",
       "      <td>70</td>\n",
       "      <td>5</td>\n",
       "      <td>Exempt</td>\n",
       "    </tr>\n",
       "    <tr>\n",
       "      <th>4</th>\n",
       "      <td>34981</td>\n",
       "      <td>VIDRE HOME PLAZA REAL on LAS RAMBLAS</td>\n",
       "      <td>73163</td>\n",
       "      <td>Andres</td>\n",
       "      <td>Ciutat Vella</td>\n",
       "      <td>el Barri Gòtic</td>\n",
       "      <td>41.379780</td>\n",
       "      <td>2.17623</td>\n",
       "      <td>Entire home/apt</td>\n",
       "      <td>450.0</td>\n",
       "      <td>5</td>\n",
       "      <td>234</td>\n",
       "      <td>2024-06-03</td>\n",
       "      <td>1.40</td>\n",
       "      <td>3</td>\n",
       "      <td>222</td>\n",
       "      <td>29</td>\n",
       "      <td>HUTB-150671</td>\n",
       "    </tr>\n",
       "  </tbody>\n",
       "</table>\n",
       "</div>"
      ],
      "text/plain": [
       "      id                                               name  host_id  \\\n",
       "0  18674    Huge flat for 8 people close to Sagrada Familia    71615   \n",
       "1  23197  Forum CCIB DeLuxe, Spacious, Large Balcony, relax    90417   \n",
       "2  32711                   Sagrada Familia area - Còrsega 1   135703   \n",
       "3  34241   Stylish Top Floor Apartment - Ramblas Plaza Real    73163   \n",
       "4  34981               VIDRE HOME PLAZA REAL on LAS RAMBLAS    73163   \n",
       "\n",
       "        host_name neighbourhood_group                       neighbourhood  \\\n",
       "0   Mireia  Maria            Eixample                  la Sagrada Família   \n",
       "1  Etain (Marnie)          Sant Martí               el Besòs i el Maresme   \n",
       "2            Nick              Gràcia  el Camp d'en Grassot i Gràcia Nova   \n",
       "3          Andres        Ciutat Vella                      el Barri Gòtic   \n",
       "4          Andres        Ciutat Vella                      el Barri Gòtic   \n",
       "\n",
       "    latitude  longitude        room_type  price  minimum_nights  \\\n",
       "0  41.405560    2.17262  Entire home/apt  257.0               1   \n",
       "1  41.412432    2.21975  Entire home/apt  249.0               3   \n",
       "2  41.405660    2.17015  Entire home/apt  240.0               1   \n",
       "3  41.380620    2.17517  Entire home/apt  229.0               5   \n",
       "4  41.379780    2.17623  Entire home/apt  450.0               5   \n",
       "\n",
       "   number_of_reviews last_review  reviews_per_month  \\\n",
       "0                 41  2024-05-02               0.30   \n",
       "1                 78  2024-05-20               0.48   \n",
       "2                121  2024-06-05               0.77   \n",
       "3                 13  2024-05-06               0.08   \n",
       "4                234  2024-06-03               1.40   \n",
       "\n",
       "   calculated_host_listings_count  availability_365  number_of_reviews_ltm  \\\n",
       "0                              27               177                      5   \n",
       "1                               1               178                      7   \n",
       "2                               2               204                     30   \n",
       "3                               3                70                      5   \n",
       "4                               3               222                     29   \n",
       "\n",
       "       license  \n",
       "0  HUTB-002062  \n",
       "1   HUTB005057  \n",
       "2  HUTB-001722  \n",
       "3       Exempt  \n",
       "4  HUTB-150671  "
      ]
     },
     "execution_count": 8,
     "metadata": {},
     "output_type": "execute_result"
    }
   ],
   "source": [
    "# Display the first 5 rows of the cleaned data\n",
    "new_df.head()"
   ]
  },
  {
   "cell_type": "markdown",
   "id": "ab612f12-eb90-4f22-bdbb-0b7ee713626e",
   "metadata": {},
   "source": [
    "## 4. Data Modeling\n",
    "- We will use a linear regression model to predict the price based on latitude, longitude, minimum nights, and availability.\n",
    "- The dataset is split into training and testing sets."
   ]
  },
  {
   "cell_type": "code",
   "execution_count": 11,
   "id": "874a5026-2c59-420e-beba-7d759f537850",
   "metadata": {},
   "outputs": [
    {
     "data": {
      "text/html": [
       "<div>\n",
       "<style scoped>\n",
       "    .dataframe tbody tr th:only-of-type {\n",
       "        vertical-align: middle;\n",
       "    }\n",
       "\n",
       "    .dataframe tbody tr th {\n",
       "        vertical-align: top;\n",
       "    }\n",
       "\n",
       "    .dataframe thead th {\n",
       "        text-align: right;\n",
       "    }\n",
       "</style>\n",
       "<table border=\"1\" class=\"dataframe\">\n",
       "  <thead>\n",
       "    <tr style=\"text-align: right;\">\n",
       "      <th></th>\n",
       "      <th>latitude</th>\n",
       "      <th>longitude</th>\n",
       "      <th>room_type</th>\n",
       "      <th>minimum_nights</th>\n",
       "      <th>availability_365</th>\n",
       "      <th>price</th>\n",
       "    </tr>\n",
       "  </thead>\n",
       "  <tbody>\n",
       "    <tr>\n",
       "      <th>0</th>\n",
       "      <td>41.405560</td>\n",
       "      <td>2.17262</td>\n",
       "      <td>Entire home/apt</td>\n",
       "      <td>1</td>\n",
       "      <td>177</td>\n",
       "      <td>257.0</td>\n",
       "    </tr>\n",
       "    <tr>\n",
       "      <th>1</th>\n",
       "      <td>41.412432</td>\n",
       "      <td>2.21975</td>\n",
       "      <td>Entire home/apt</td>\n",
       "      <td>3</td>\n",
       "      <td>178</td>\n",
       "      <td>249.0</td>\n",
       "    </tr>\n",
       "    <tr>\n",
       "      <th>2</th>\n",
       "      <td>41.405660</td>\n",
       "      <td>2.17015</td>\n",
       "      <td>Entire home/apt</td>\n",
       "      <td>1</td>\n",
       "      <td>204</td>\n",
       "      <td>240.0</td>\n",
       "    </tr>\n",
       "    <tr>\n",
       "      <th>3</th>\n",
       "      <td>41.380620</td>\n",
       "      <td>2.17517</td>\n",
       "      <td>Entire home/apt</td>\n",
       "      <td>5</td>\n",
       "      <td>70</td>\n",
       "      <td>229.0</td>\n",
       "    </tr>\n",
       "    <tr>\n",
       "      <th>4</th>\n",
       "      <td>41.379780</td>\n",
       "      <td>2.17623</td>\n",
       "      <td>Entire home/apt</td>\n",
       "      <td>5</td>\n",
       "      <td>222</td>\n",
       "      <td>450.0</td>\n",
       "    </tr>\n",
       "  </tbody>\n",
       "</table>\n",
       "</div>"
      ],
      "text/plain": [
       "    latitude  longitude        room_type  minimum_nights  availability_365  \\\n",
       "0  41.405560    2.17262  Entire home/apt               1               177   \n",
       "1  41.412432    2.21975  Entire home/apt               3               178   \n",
       "2  41.405660    2.17015  Entire home/apt               1               204   \n",
       "3  41.380620    2.17517  Entire home/apt               5                70   \n",
       "4  41.379780    2.17623  Entire home/apt               5               222   \n",
       "\n",
       "   price  \n",
       "0  257.0  \n",
       "1  249.0  \n",
       "2  240.0  \n",
       "3  229.0  \n",
       "4  450.0  "
      ]
     },
     "execution_count": 11,
     "metadata": {},
     "output_type": "execute_result"
    }
   ],
   "source": [
    "#below variable ans_df with 6 columns of the data frame\n",
    "ans_df = df[['latitude', 'longitude', 'room_type', 'minimum_nights', 'availability_365', 'price']]\n",
    "ans_df.head()"
   ]
  },
  {
   "cell_type": "code",
   "execution_count": 13,
   "id": "77ba3895-c2da-448e-a74b-7efdf4d07182",
   "metadata": {},
   "outputs": [
    {
     "data": {
      "text/plain": [
       "'The r-squared score for your model was 0.033076928440168296 on 4557 values.'"
      ]
     },
     "execution_count": 13,
     "metadata": {},
     "output_type": "execute_result"
    }
   ],
   "source": [
    "# Define variables for the model\n",
    "num_vars = ans_df[['price', 'latitude', 'longitude', 'room_type', 'minimum_nights', 'availability_365']]\n",
    "df_dropna = num_vars.dropna(axis=0)\n",
    "\n",
    "#Split into explanatory and response variables\n",
    "X = df_dropna[['latitude', 'longitude', 'minimum_nights', 'availability_365']]\n",
    "y = df_dropna['price']\n",
    "\n",
    "#Split into train and test\n",
    "X_train, X_test, y_train, y_test = train_test_split(X, y, test_size = .30, random_state=42) \n",
    "\n",
    "#Instantiate the linear regression model\n",
    "lm_model = LinearRegression() \n",
    "\n",
    "#Fit the model\n",
    "lm_model.fit(X_train, y_train) \n",
    "        \n",
    "#Predict and evaluate the model\n",
    "y_test_preds = lm_model.predict(X_test) \n",
    "\"The r-squared score for your model was {} on {} values.\".format(r2_score(y_test, y_test_preds), len(y_test))"
   ]
  },
  {
   "cell_type": "markdown",
   "id": "d9511f54-87db-42fd-a112-079f957d5dff",
   "metadata": {},
   "source": [
    "## 5. Evaluate the Results\n",
    "- **R-squared score**: Evaluated to measure how well the model predicts the price.\n",
    "- Visualizing the relationships to answer the initial business questions."
   ]
  },
  {
   "cell_type": "code",
   "execution_count": 14,
   "id": "91d09eb4-5ab9-470a-9ebc-40315a48ea54",
   "metadata": {},
   "outputs": [
    {
     "ename": "AttributeError",
     "evalue": "module 'matplotlib' has no attribute 'title'",
     "output_type": "error",
     "traceback": [
      "\u001b[1;31m---------------------------------------------------------------------------\u001b[0m",
      "\u001b[1;31mAttributeError\u001b[0m                            Traceback (most recent call last)",
      "Cell \u001b[1;32mIn[14], line 3\u001b[0m\n\u001b[0;32m      1\u001b[0m \u001b[38;5;66;03m# Visualize the relationship between minimum nights and price\u001b[39;00m\n\u001b[0;32m      2\u001b[0m sns\u001b[38;5;241m.\u001b[39mscatterplot(x\u001b[38;5;241m=\u001b[39m\u001b[38;5;124m'\u001b[39m\u001b[38;5;124mminimum_nights\u001b[39m\u001b[38;5;124m'\u001b[39m, y\u001b[38;5;241m=\u001b[39m\u001b[38;5;124m'\u001b[39m\u001b[38;5;124mprice\u001b[39m\u001b[38;5;124m'\u001b[39m, data\u001b[38;5;241m=\u001b[39mdf_dropna)\n\u001b[1;32m----> 3\u001b[0m plt\u001b[38;5;241m.\u001b[39mtitle(\u001b[38;5;124m\"\u001b[39m\u001b[38;5;124mPrice vs. Minimum Nights\u001b[39m\u001b[38;5;124m\"\u001b[39m)\n",
      "File \u001b[1;32mC:\\ProgramData\\anaconda\\Lib\\site-packages\\matplotlib\\_api\\__init__.py:217\u001b[0m, in \u001b[0;36mcaching_module_getattr.<locals>.__getattr__\u001b[1;34m(name)\u001b[0m\n\u001b[0;32m    215\u001b[0m \u001b[38;5;28;01mif\u001b[39;00m name \u001b[38;5;129;01min\u001b[39;00m props:\n\u001b[0;32m    216\u001b[0m     \u001b[38;5;28;01mreturn\u001b[39;00m props[name]\u001b[38;5;241m.\u001b[39m\u001b[38;5;21m__get__\u001b[39m(instance)\n\u001b[1;32m--> 217\u001b[0m \u001b[38;5;28;01mraise\u001b[39;00m \u001b[38;5;167;01mAttributeError\u001b[39;00m(\n\u001b[0;32m    218\u001b[0m     \u001b[38;5;124mf\u001b[39m\u001b[38;5;124m\"\u001b[39m\u001b[38;5;124mmodule \u001b[39m\u001b[38;5;132;01m{\u001b[39;00m\u001b[38;5;28mcls\u001b[39m\u001b[38;5;241m.\u001b[39m\u001b[38;5;18m__module__\u001b[39m\u001b[38;5;132;01m!r}\u001b[39;00m\u001b[38;5;124m has no attribute \u001b[39m\u001b[38;5;132;01m{\u001b[39;00mname\u001b[38;5;132;01m!r}\u001b[39;00m\u001b[38;5;124m\"\u001b[39m)\n",
      "\u001b[1;31mAttributeError\u001b[0m: module 'matplotlib' has no attribute 'title'"
     ]
    },
    {
     "data": {
      "image/png": "[encoded data removed]",
      "text/plain": [
       "<Figure size 640x480 with 1 Axes>"
      ]
     },
     "metadata": {},
     "output_type": "display_data"
    }
   ],
   "source": [
    "# Visualize the relationship between minimum nights and price\n",
    "sns.scatterplot(x='minimum_nights', y='price', data=df_dropna)\n",
    "plt.title(\"Price vs. Minimum Nights\")"
   ]
  },
  {
   "cell_type": "code",
   "execution_count": 15,
   "id": "e3051395-0f2e-424e-8d06-82820ba08265",
   "metadata": {},
   "outputs": [
    {
     "ename": "AttributeError",
     "evalue": "module 'matplotlib' has no attribute 'title'",
     "output_type": "error",
     "traceback": [
      "\u001b[1;31m---------------------------------------------------------------------------\u001b[0m",
      "\u001b[1;31mAttributeError\u001b[0m                            Traceback (most recent call last)",
      "Cell \u001b[1;32mIn[15], line 3\u001b[0m\n\u001b[0;32m      1\u001b[0m \u001b[38;5;66;03m# Visualize the relationship between latitude and price\u001b[39;00m\n\u001b[0;32m      2\u001b[0m sns\u001b[38;5;241m.\u001b[39mscatterplot(x\u001b[38;5;241m=\u001b[39m\u001b[38;5;124m'\u001b[39m\u001b[38;5;124mlatitude\u001b[39m\u001b[38;5;124m'\u001b[39m, y\u001b[38;5;241m=\u001b[39m\u001b[38;5;124m'\u001b[39m\u001b[38;5;124mprice\u001b[39m\u001b[38;5;124m'\u001b[39m, data\u001b[38;5;241m=\u001b[39mdf_dropna)\n\u001b[1;32m----> 3\u001b[0m plt\u001b[38;5;241m.\u001b[39mtitle(\u001b[38;5;124m\"\u001b[39m\u001b[38;5;124mPrice vs. Latitude\u001b[39m\u001b[38;5;124m\"\u001b[39m)\n",
      "File \u001b[1;32mC:\\ProgramData\\anaconda\\Lib\\site-packages\\matplotlib\\_api\\__init__.py:217\u001b[0m, in \u001b[0;36mcaching_module_getattr.<locals>.__getattr__\u001b[1;34m(name)\u001b[0m\n\u001b[0;32m    215\u001b[0m \u001b[38;5;28;01mif\u001b[39;00m name \u001b[38;5;129;01min\u001b[39;00m props:\n\u001b[0;32m    216\u001b[0m     \u001b[38;5;28;01mreturn\u001b[39;00m props[name]\u001b[38;5;241m.\u001b[39m\u001b[38;5;21m__get__\u001b[39m(instance)\n\u001b[1;32m--> 217\u001b[0m \u001b[38;5;28;01mraise\u001b[39;00m \u001b[38;5;167;01mAttributeError\u001b[39;00m(\n\u001b[0;32m    218\u001b[0m     \u001b[38;5;124mf\u001b[39m\u001b[38;5;124m\"\u001b[39m\u001b[38;5;124mmodule \u001b[39m\u001b[38;5;132;01m{\u001b[39;00m\u001b[38;5;28mcls\u001b[39m\u001b[38;5;241m.\u001b[39m\u001b[38;5;18m__module__\u001b[39m\u001b[38;5;132;01m!r}\u001b[39;00m\u001b[38;5;124m has no attribute \u001b[39m\u001b[38;5;132;01m{\u001b[39;00mname\u001b[38;5;132;01m!r}\u001b[39;00m\u001b[38;5;124m\"\u001b[39m)\n",
      "\u001b[1;31mAttributeError\u001b[0m: module 'matplotlib' has no attribute 'title'"
     ]
    },
    {
     "data": {
      "image/png": "[encoded data removed]",
      "text/plain": [
       "<Figure size 640x480 with 1 Axes>"
      ]
     },
     "metadata": {},
     "output_type": "display_data"
    }
   ],
   "source": [
    "# Visualize the relationship between latitude and price\n",
    "sns.scatterplot(x='latitude', y='price', data=df_dropna)\n",
    "plt.title(\"Price vs. Latitude\")"
   ]
  },
  {
   "cell_type": "code",
   "execution_count": 16,
   "id": "8d11389c-86d0-4750-9974-15301795f488",
   "metadata": {},
   "outputs": [
    {
     "ename": "AttributeError",
     "evalue": "module 'matplotlib' has no attribute 'title'",
     "output_type": "error",
     "traceback": [
      "\u001b[1;31m---------------------------------------------------------------------------\u001b[0m",
      "\u001b[1;31mAttributeError\u001b[0m                            Traceback (most recent call last)",
      "Cell \u001b[1;32mIn[16], line 3\u001b[0m\n\u001b[0;32m      1\u001b[0m \u001b[38;5;66;03m# Visualize room type vs. availability\u001b[39;00m\n\u001b[0;32m      2\u001b[0m sns\u001b[38;5;241m.\u001b[39mboxplot(x\u001b[38;5;241m=\u001b[39m\u001b[38;5;124m'\u001b[39m\u001b[38;5;124mroom_type\u001b[39m\u001b[38;5;124m'\u001b[39m, y\u001b[38;5;241m=\u001b[39m\u001b[38;5;124m'\u001b[39m\u001b[38;5;124mavailability_365\u001b[39m\u001b[38;5;124m'\u001b[39m, data\u001b[38;5;241m=\u001b[39mdf)\n\u001b[1;32m----> 3\u001b[0m plt\u001b[38;5;241m.\u001b[39mtitle(\u001b[38;5;124m\"\u001b[39m\u001b[38;5;124mRoom Type vs. Availability (365 days)\u001b[39m\u001b[38;5;124m\"\u001b[39m)\n",
      "File \u001b[1;32mC:\\ProgramData\\anaconda\\Lib\\site-packages\\matplotlib\\_api\\__init__.py:217\u001b[0m, in \u001b[0;36mcaching_module_getattr.<locals>.__getattr__\u001b[1;34m(name)\u001b[0m\n\u001b[0;32m    215\u001b[0m \u001b[38;5;28;01mif\u001b[39;00m name \u001b[38;5;129;01min\u001b[39;00m props:\n\u001b[0;32m    216\u001b[0m     \u001b[38;5;28;01mreturn\u001b[39;00m props[name]\u001b[38;5;241m.\u001b[39m\u001b[38;5;21m__get__\u001b[39m(instance)\n\u001b[1;32m--> 217\u001b[0m \u001b[38;5;28;01mraise\u001b[39;00m \u001b[38;5;167;01mAttributeError\u001b[39;00m(\n\u001b[0;32m    218\u001b[0m     \u001b[38;5;124mf\u001b[39m\u001b[38;5;124m\"\u001b[39m\u001b[38;5;124mmodule \u001b[39m\u001b[38;5;132;01m{\u001b[39;00m\u001b[38;5;28mcls\u001b[39m\u001b[38;5;241m.\u001b[39m\u001b[38;5;18m__module__\u001b[39m\u001b[38;5;132;01m!r}\u001b[39;00m\u001b[38;5;124m has no attribute \u001b[39m\u001b[38;5;132;01m{\u001b[39;00mname\u001b[38;5;132;01m!r}\u001b[39;00m\u001b[38;5;124m\"\u001b[39m)\n",
      "\u001b[1;31mAttributeError\u001b[0m: module 'matplotlib' has no attribute 'title'"
     ]
    },
    {
     "data": {
      "image/png": "[encoded data removed]",
      "text/plain": [
       "<Figure size 640x480 with 1 Axes>"
      ]
     },
     "metadata": {},
     "output_type": "display_data"
    }
   ],
   "source": [
    "# Visualize room type vs. availability\n",
    "sns.boxplot(x='room_type', y='availability_365', data=df)\n",
    "plt.title(\"Room Type vs. Availability (365 days)\")"
   ]
  },
  {
   "cell_type": "code",
   "execution_count": 17,
   "id": "2d8ab2ae-94c5-4d7b-909f-fcbfbb70e882",
   "metadata": {},
   "outputs": [
    {
     "ename": "AttributeError",
     "evalue": "module 'matplotlib' has no attribute 'title'",
     "output_type": "error",
     "traceback": [
      "\u001b[1;31m---------------------------------------------------------------------------\u001b[0m",
      "\u001b[1;31mAttributeError\u001b[0m                            Traceback (most recent call last)",
      "Cell \u001b[1;32mIn[17], line 4\u001b[0m\n\u001b[0;32m      2\u001b[0m room_availability \u001b[38;5;241m=\u001b[39m df\u001b[38;5;241m.\u001b[39mgroupby(\u001b[38;5;124m'\u001b[39m\u001b[38;5;124mroom_type\u001b[39m\u001b[38;5;124m'\u001b[39m)[\u001b[38;5;124m'\u001b[39m\u001b[38;5;124mavailability_365\u001b[39m\u001b[38;5;124m'\u001b[39m]\u001b[38;5;241m.\u001b[39mmean()\u001b[38;5;241m.\u001b[39mreset_index()\n\u001b[0;32m      3\u001b[0m sns\u001b[38;5;241m.\u001b[39mbarplot(x\u001b[38;5;241m=\u001b[39m\u001b[38;5;124m'\u001b[39m\u001b[38;5;124mroom_type\u001b[39m\u001b[38;5;124m'\u001b[39m, y\u001b[38;5;241m=\u001b[39m\u001b[38;5;124m'\u001b[39m\u001b[38;5;124mavailability_365\u001b[39m\u001b[38;5;124m'\u001b[39m, data\u001b[38;5;241m=\u001b[39mroom_availability)\n\u001b[1;32m----> 4\u001b[0m plt\u001b[38;5;241m.\u001b[39mtitle(\u001b[38;5;124m\"\u001b[39m\u001b[38;5;124mAverage Availability by Room Type\u001b[39m\u001b[38;5;124m\"\u001b[39m)\n",
      "File \u001b[1;32mC:\\ProgramData\\anaconda\\Lib\\site-packages\\matplotlib\\_api\\__init__.py:217\u001b[0m, in \u001b[0;36mcaching_module_getattr.<locals>.__getattr__\u001b[1;34m(name)\u001b[0m\n\u001b[0;32m    215\u001b[0m \u001b[38;5;28;01mif\u001b[39;00m name \u001b[38;5;129;01min\u001b[39;00m props:\n\u001b[0;32m    216\u001b[0m     \u001b[38;5;28;01mreturn\u001b[39;00m props[name]\u001b[38;5;241m.\u001b[39m\u001b[38;5;21m__get__\u001b[39m(instance)\n\u001b[1;32m--> 217\u001b[0m \u001b[38;5;28;01mraise\u001b[39;00m \u001b[38;5;167;01mAttributeError\u001b[39;00m(\n\u001b[0;32m    218\u001b[0m     \u001b[38;5;124mf\u001b[39m\u001b[38;5;124m\"\u001b[39m\u001b[38;5;124mmodule \u001b[39m\u001b[38;5;132;01m{\u001b[39;00m\u001b[38;5;28mcls\u001b[39m\u001b[38;5;241m.\u001b[39m\u001b[38;5;18m__module__\u001b[39m\u001b[38;5;132;01m!r}\u001b[39;00m\u001b[38;5;124m has no attribute \u001b[39m\u001b[38;5;132;01m{\u001b[39;00mname\u001b[38;5;132;01m!r}\u001b[39;00m\u001b[38;5;124m\"\u001b[39m)\n",
      "\u001b[1;31mAttributeError\u001b[0m: module 'matplotlib' has no attribute 'title'"
     ]
    },
    {
     "data": {
      "image/png": "[encoded data removed]",
      "text/plain": [
       "<Figure size 640x480 with 1 Axes>"
      ]
     },
     "metadata": {},
     "output_type": "display_data"
    }
   ],
   "source": [
    "# Bar plot to show average availability by room type\n",
    "room_availability = df.groupby('room_type')['availability_365'].mean().reset_index()\n",
    "sns.barplot(x='room_type', y='availability_365', data=room_availability)\n",
    "plt.title(\"Average Availability by Room Type\")"
   ]
  },
  {
   "cell_type": "markdown",
   "id": "b4f13332-9dfd-4363-b177-068cde553e71",
   "metadata": {},
   "source": [
    "## 6. Conclusion\n",
    "- **Summary of Findings**: \n",
    "  - Homes with longer minimum nights are not necessarily more expensive based on the scatter plot.\n",
    "  - The price shows variation with latitude but other factors also play a role.\n",
    "  - Certain room types have higher availability, indicating different levels of demand.\n",
    "\n",
    "## Further Work\n",
    "- Exploring other models like decision trees or random forests.\n",
    "- Further feature engineering and handling outliers to improve the model."
   ]
  }
 ],
 "metadata": {
  "kernelspec": {
   "display_name": "Python 3 (ipykernel)",
   "language": "python",
   "name": "python3"
  },
  "language_info": {
   "codemirror_mode": {
    "name": "ipython",
    "version": 3
   },
   "file_extension": ".py",
   "mimetype": "text/x-python",
   "name": "python",
   "nbconvert_exporter": "python",
   "pygments_lexer": "ipython3",
   "version": "3.11.7"
  }
 },
 "nbformat": 4,
 "nbformat_minor": 5
}
