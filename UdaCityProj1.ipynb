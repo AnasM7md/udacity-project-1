{
 "cells": [
  {
   "cell_type": "code",
   "execution_count": null,
   "id": "c1afee56-439a-408d-a301-3b1e08c628cf",
   "metadata": {},
   "outputs": [],
   "source": [
    "**UDA CITY PROJECT**\n",
    "in this project I chose dataset from Airbnb website which is 'listings'.\n"
   ]
  },
  {
   "cell_type": "code",
   "execution_count": 3,
   "id": "a6d2406c-e243-4aa0-b576-57ec3512e7d2",
   "metadata": {},
   "outputs": [],
   "source": [
    "#here I imported the nacassery files.\n",
    "import pandas as pd\n",
    "import numpy as np\n",
    "import matplotlib as plt\n",
    "%matplotlib inline\n",
    "from IPython import display\n",
    "from sklearn.linear_model import LinearRegression\n",
    "from sklearn.model_selection import train_test_split\n",
    "from sklearn.metrics import r2_score, mean_squared_error\n",
    "import seaborn as sns\n",
    "\n",
    "#Read the csv file \n",
    "df = pd.read_csv('listings.csv')"
   ]
  },
  {
   "cell_type": "code",
   "execution_count": 4,
   "id": "f87d1b17-8219-404e-95c5-e51ae39a2d50",
   "metadata": {},
   "outputs": [
    {
     "data": {
      "text/html": [
       "<div>\n",
       "<style scoped>\n",
       "    .dataframe tbody tr th:only-of-type {\n",
       "        vertical-align: middle;\n",
       "    }\n",
       "\n",
       "    .dataframe tbody tr th {\n",
       "        vertical-align: top;\n",
       "    }\n",
       "\n",
       "    .dataframe thead th {\n",
       "        text-align: right;\n",
       "    }\n",
       "</style>\n",
       "<table border=\"1\" class=\"dataframe\">\n",
       "  <thead>\n",
       "    <tr style=\"text-align: right;\">\n",
       "      <th></th>\n",
       "      <th>id</th>\n",
       "      <th>name</th>\n",
       "      <th>host_id</th>\n",
       "      <th>host_name</th>\n",
       "      <th>neighbourhood_group</th>\n",
       "      <th>neighbourhood</th>\n",
       "      <th>latitude</th>\n",
       "      <th>longitude</th>\n",
       "      <th>room_type</th>\n",
       "      <th>price</th>\n",
       "      <th>minimum_nights</th>\n",
       "      <th>number_of_reviews</th>\n",
       "      <th>last_review</th>\n",
       "      <th>reviews_per_month</th>\n",
       "      <th>calculated_host_listings_count</th>\n",
       "      <th>availability_365</th>\n",
       "      <th>number_of_reviews_ltm</th>\n",
       "      <th>license</th>\n",
       "    </tr>\n",
       "  </thead>\n",
       "  <tbody>\n",
       "    <tr>\n",
       "      <th>0</th>\n",
       "      <td>18674</td>\n",
       "      <td>Huge flat for 8 people close to Sagrada Familia</td>\n",
       "      <td>71615</td>\n",
       "      <td>Mireia  Maria</td>\n",
       "      <td>Eixample</td>\n",
       "      <td>la Sagrada Família</td>\n",
       "      <td>41.405560</td>\n",
       "      <td>2.17262</td>\n",
       "      <td>Entire home/apt</td>\n",
       "      <td>257.0</td>\n",
       "      <td>1</td>\n",
       "      <td>41</td>\n",
       "      <td>2024-05-02</td>\n",
       "      <td>0.30</td>\n",
       "      <td>27</td>\n",
       "      <td>177</td>\n",
       "      <td>5</td>\n",
       "      <td>HUTB-002062</td>\n",
       "    </tr>\n",
       "    <tr>\n",
       "      <th>1</th>\n",
       "      <td>23197</td>\n",
       "      <td>Forum CCIB DeLuxe, Spacious, Large Balcony, relax</td>\n",
       "      <td>90417</td>\n",
       "      <td>Etain (Marnie)</td>\n",
       "      <td>Sant Martí</td>\n",
       "      <td>el Besòs i el Maresme</td>\n",
       "      <td>41.412432</td>\n",
       "      <td>2.21975</td>\n",
       "      <td>Entire home/apt</td>\n",
       "      <td>249.0</td>\n",
       "      <td>3</td>\n",
       "      <td>78</td>\n",
       "      <td>2024-05-20</td>\n",
       "      <td>0.48</td>\n",
       "      <td>1</td>\n",
       "      <td>178</td>\n",
       "      <td>7</td>\n",
       "      <td>HUTB005057</td>\n",
       "    </tr>\n",
       "    <tr>\n",
       "      <th>2</th>\n",
       "      <td>32711</td>\n",
       "      <td>Sagrada Familia area - Còrsega 1</td>\n",
       "      <td>135703</td>\n",
       "      <td>Nick</td>\n",
       "      <td>Gràcia</td>\n",
       "      <td>el Camp d'en Grassot i Gràcia Nova</td>\n",
       "      <td>41.405660</td>\n",
       "      <td>2.17015</td>\n",
       "      <td>Entire home/apt</td>\n",
       "      <td>240.0</td>\n",
       "      <td>1</td>\n",
       "      <td>121</td>\n",
       "      <td>2024-06-05</td>\n",
       "      <td>0.77</td>\n",
       "      <td>2</td>\n",
       "      <td>204</td>\n",
       "      <td>30</td>\n",
       "      <td>HUTB-001722</td>\n",
       "    </tr>\n",
       "    <tr>\n",
       "      <th>3</th>\n",
       "      <td>34241</td>\n",
       "      <td>Stylish Top Floor Apartment - Ramblas Plaza Real</td>\n",
       "      <td>73163</td>\n",
       "      <td>Andres</td>\n",
       "      <td>Ciutat Vella</td>\n",
       "      <td>el Barri Gòtic</td>\n",
       "      <td>41.380620</td>\n",
       "      <td>2.17517</td>\n",
       "      <td>Entire home/apt</td>\n",
       "      <td>229.0</td>\n",
       "      <td>5</td>\n",
       "      <td>13</td>\n",
       "      <td>2024-05-06</td>\n",
       "      <td>0.08</td>\n",
       "      <td>3</td>\n",
       "      <td>70</td>\n",
       "      <td>5</td>\n",
       "      <td>Exempt</td>\n",
       "    </tr>\n",
       "    <tr>\n",
       "      <th>4</th>\n",
       "      <td>34981</td>\n",
       "      <td>VIDRE HOME PLAZA REAL on LAS RAMBLAS</td>\n",
       "      <td>73163</td>\n",
       "      <td>Andres</td>\n",
       "      <td>Ciutat Vella</td>\n",
       "      <td>el Barri Gòtic</td>\n",
       "      <td>41.379780</td>\n",
       "      <td>2.17623</td>\n",
       "      <td>Entire home/apt</td>\n",
       "      <td>450.0</td>\n",
       "      <td>5</td>\n",
       "      <td>234</td>\n",
       "      <td>2024-06-03</td>\n",
       "      <td>1.40</td>\n",
       "      <td>3</td>\n",
       "      <td>222</td>\n",
       "      <td>29</td>\n",
       "      <td>HUTB-150671</td>\n",
       "    </tr>\n",
       "  </tbody>\n",
       "</table>\n",
       "</div>"
      ],
      "text/plain": [
       "      id                                               name  host_id  \\\n",
       "0  18674    Huge flat for 8 people close to Sagrada Familia    71615   \n",
       "1  23197  Forum CCIB DeLuxe, Spacious, Large Balcony, relax    90417   \n",
       "2  32711                   Sagrada Familia area - Còrsega 1   135703   \n",
       "3  34241   Stylish Top Floor Apartment - Ramblas Plaza Real    73163   \n",
       "4  34981               VIDRE HOME PLAZA REAL on LAS RAMBLAS    73163   \n",
       "\n",
       "        host_name neighbourhood_group                       neighbourhood  \\\n",
       "0   Mireia  Maria            Eixample                  la Sagrada Família   \n",
       "1  Etain (Marnie)          Sant Martí               el Besòs i el Maresme   \n",
       "2            Nick              Gràcia  el Camp d'en Grassot i Gràcia Nova   \n",
       "3          Andres        Ciutat Vella                      el Barri Gòtic   \n",
       "4          Andres        Ciutat Vella                      el Barri Gòtic   \n",
       "\n",
       "    latitude  longitude        room_type  price  minimum_nights  \\\n",
       "0  41.405560    2.17262  Entire home/apt  257.0               1   \n",
       "1  41.412432    2.21975  Entire home/apt  249.0               3   \n",
       "2  41.405660    2.17015  Entire home/apt  240.0               1   \n",
       "3  41.380620    2.17517  Entire home/apt  229.0               5   \n",
       "4  41.379780    2.17623  Entire home/apt  450.0               5   \n",
       "\n",
       "   number_of_reviews last_review  reviews_per_month  \\\n",
       "0                 41  2024-05-02               0.30   \n",
       "1                 78  2024-05-20               0.48   \n",
       "2                121  2024-06-05               0.77   \n",
       "3                 13  2024-05-06               0.08   \n",
       "4                234  2024-06-03               1.40   \n",
       "\n",
       "   calculated_host_listings_count  availability_365  number_of_reviews_ltm  \\\n",
       "0                              27               177                      5   \n",
       "1                               1               178                      7   \n",
       "2                               2               204                     30   \n",
       "3                               3                70                      5   \n",
       "4                               3               222                     29   \n",
       "\n",
       "       license  \n",
       "0  HUTB-002062  \n",
       "1   HUTB005057  \n",
       "2  HUTB-001722  \n",
       "3       Exempt  \n",
       "4  HUTB-150671  "
      ]
     },
     "execution_count": 4,
     "metadata": {},
     "output_type": "execute_result"
    }
   ],
   "source": [
    "#pull the first 5 rows\n",
    "df.head()"
   ]
  },
  {
   "cell_type": "code",
   "execution_count": 5,
   "id": "f874d00e-0e75-4a58-9ecc-dbaf9e53d129",
   "metadata": {},
   "outputs": [
    {
     "data": {
      "text/plain": [
       "{'host_name', 'last_review', 'license', 'price', 'reviews_per_month'}"
      ]
     },
     "execution_count": 5,
     "metadata": {},
     "output_type": "execute_result"
    }
   ],
   "source": [
    "#the columns that have missing values\n",
    "set(df.columns[df.isnull().sum() != 0])"
   ]
  },
  {
   "cell_type": "code",
   "execution_count": 6,
   "id": "24b455ec-1900-43f1-975e-68d997c6303d",
   "metadata": {},
   "outputs": [],
   "source": [
    "#remove all rows that have missing values.\n",
    "new_df = df.dropna(axis= 0)"
   ]
  },
  {
   "cell_type": "code",
   "execution_count": 7,
   "id": "1de64596-07f8-421a-97e7-831251161c10",
   "metadata": {},
   "outputs": [
    {
     "data": {
      "text/plain": [
       "(18925, 18)"
      ]
     },
     "execution_count": 7,
     "metadata": {},
     "output_type": "execute_result"
    }
   ],
   "source": [
    "df.shape"
   ]
  },
  {
   "cell_type": "code",
   "execution_count": 8,
   "id": "97578969-b77c-444d-9b86-bed78d0fe90f",
   "metadata": {},
   "outputs": [
    {
     "data": {
      "text/plain": [
       "(9640, 18)"
      ]
     },
     "execution_count": 8,
     "metadata": {},
     "output_type": "execute_result"
    }
   ],
   "source": [
    "new_df.shape"
   ]
  },
  {
   "cell_type": "code",
   "execution_count": 9,
   "id": "b85f5d41-7491-44c0-830d-5a968174b02a",
   "metadata": {},
   "outputs": [
    {
     "data": {
      "text/html": [
       "<div>\n",
       "<style scoped>\n",
       "    .dataframe tbody tr th:only-of-type {\n",
       "        vertical-align: middle;\n",
       "    }\n",
       "\n",
       "    .dataframe tbody tr th {\n",
       "        vertical-align: top;\n",
       "    }\n",
       "\n",
       "    .dataframe thead th {\n",
       "        text-align: right;\n",
       "    }\n",
       "</style>\n",
       "<table border=\"1\" class=\"dataframe\">\n",
       "  <thead>\n",
       "    <tr style=\"text-align: right;\">\n",
       "      <th></th>\n",
       "      <th>id</th>\n",
       "      <th>name</th>\n",
       "      <th>host_id</th>\n",
       "      <th>host_name</th>\n",
       "      <th>neighbourhood_group</th>\n",
       "      <th>neighbourhood</th>\n",
       "      <th>latitude</th>\n",
       "      <th>longitude</th>\n",
       "      <th>room_type</th>\n",
       "      <th>price</th>\n",
       "      <th>minimum_nights</th>\n",
       "      <th>number_of_reviews</th>\n",
       "      <th>last_review</th>\n",
       "      <th>reviews_per_month</th>\n",
       "      <th>calculated_host_listings_count</th>\n",
       "      <th>availability_365</th>\n",
       "      <th>number_of_reviews_ltm</th>\n",
       "      <th>license</th>\n",
       "    </tr>\n",
       "  </thead>\n",
       "  <tbody>\n",
       "    <tr>\n",
       "      <th>0</th>\n",
       "      <td>18674</td>\n",
       "      <td>Huge flat for 8 people close to Sagrada Familia</td>\n",
       "      <td>71615</td>\n",
       "      <td>Mireia  Maria</td>\n",
       "      <td>Eixample</td>\n",
       "      <td>la Sagrada Família</td>\n",
       "      <td>41.405560</td>\n",
       "      <td>2.17262</td>\n",
       "      <td>Entire home/apt</td>\n",
       "      <td>257.0</td>\n",
       "      <td>1</td>\n",
       "      <td>41</td>\n",
       "      <td>2024-05-02</td>\n",
       "      <td>0.30</td>\n",
       "      <td>27</td>\n",
       "      <td>177</td>\n",
       "      <td>5</td>\n",
       "      <td>HUTB-002062</td>\n",
       "    </tr>\n",
       "    <tr>\n",
       "      <th>1</th>\n",
       "      <td>23197</td>\n",
       "      <td>Forum CCIB DeLuxe, Spacious, Large Balcony, relax</td>\n",
       "      <td>90417</td>\n",
       "      <td>Etain (Marnie)</td>\n",
       "      <td>Sant Martí</td>\n",
       "      <td>el Besòs i el Maresme</td>\n",
       "      <td>41.412432</td>\n",
       "      <td>2.21975</td>\n",
       "      <td>Entire home/apt</td>\n",
       "      <td>249.0</td>\n",
       "      <td>3</td>\n",
       "      <td>78</td>\n",
       "      <td>2024-05-20</td>\n",
       "      <td>0.48</td>\n",
       "      <td>1</td>\n",
       "      <td>178</td>\n",
       "      <td>7</td>\n",
       "      <td>HUTB005057</td>\n",
       "    </tr>\n",
       "    <tr>\n",
       "      <th>2</th>\n",
       "      <td>32711</td>\n",
       "      <td>Sagrada Familia area - Còrsega 1</td>\n",
       "      <td>135703</td>\n",
       "      <td>Nick</td>\n",
       "      <td>Gràcia</td>\n",
       "      <td>el Camp d'en Grassot i Gràcia Nova</td>\n",
       "      <td>41.405660</td>\n",
       "      <td>2.17015</td>\n",
       "      <td>Entire home/apt</td>\n",
       "      <td>240.0</td>\n",
       "      <td>1</td>\n",
       "      <td>121</td>\n",
       "      <td>2024-06-05</td>\n",
       "      <td>0.77</td>\n",
       "      <td>2</td>\n",
       "      <td>204</td>\n",
       "      <td>30</td>\n",
       "      <td>HUTB-001722</td>\n",
       "    </tr>\n",
       "    <tr>\n",
       "      <th>3</th>\n",
       "      <td>34241</td>\n",
       "      <td>Stylish Top Floor Apartment - Ramblas Plaza Real</td>\n",
       "      <td>73163</td>\n",
       "      <td>Andres</td>\n",
       "      <td>Ciutat Vella</td>\n",
       "      <td>el Barri Gòtic</td>\n",
       "      <td>41.380620</td>\n",
       "      <td>2.17517</td>\n",
       "      <td>Entire home/apt</td>\n",
       "      <td>229.0</td>\n",
       "      <td>5</td>\n",
       "      <td>13</td>\n",
       "      <td>2024-05-06</td>\n",
       "      <td>0.08</td>\n",
       "      <td>3</td>\n",
       "      <td>70</td>\n",
       "      <td>5</td>\n",
       "      <td>Exempt</td>\n",
       "    </tr>\n",
       "    <tr>\n",
       "      <th>4</th>\n",
       "      <td>34981</td>\n",
       "      <td>VIDRE HOME PLAZA REAL on LAS RAMBLAS</td>\n",
       "      <td>73163</td>\n",
       "      <td>Andres</td>\n",
       "      <td>Ciutat Vella</td>\n",
       "      <td>el Barri Gòtic</td>\n",
       "      <td>41.379780</td>\n",
       "      <td>2.17623</td>\n",
       "      <td>Entire home/apt</td>\n",
       "      <td>450.0</td>\n",
       "      <td>5</td>\n",
       "      <td>234</td>\n",
       "      <td>2024-06-03</td>\n",
       "      <td>1.40</td>\n",
       "      <td>3</td>\n",
       "      <td>222</td>\n",
       "      <td>29</td>\n",
       "      <td>HUTB-150671</td>\n",
       "    </tr>\n",
       "  </tbody>\n",
       "</table>\n",
       "</div>"
      ],
      "text/plain": [
       "      id                                               name  host_id  \\\n",
       "0  18674    Huge flat for 8 people close to Sagrada Familia    71615   \n",
       "1  23197  Forum CCIB DeLuxe, Spacious, Large Balcony, relax    90417   \n",
       "2  32711                   Sagrada Familia area - Còrsega 1   135703   \n",
       "3  34241   Stylish Top Floor Apartment - Ramblas Plaza Real    73163   \n",
       "4  34981               VIDRE HOME PLAZA REAL on LAS RAMBLAS    73163   \n",
       "\n",
       "        host_name neighbourhood_group                       neighbourhood  \\\n",
       "0   Mireia  Maria            Eixample                  la Sagrada Família   \n",
       "1  Etain (Marnie)          Sant Martí               el Besòs i el Maresme   \n",
       "2            Nick              Gràcia  el Camp d'en Grassot i Gràcia Nova   \n",
       "3          Andres        Ciutat Vella                      el Barri Gòtic   \n",
       "4          Andres        Ciutat Vella                      el Barri Gòtic   \n",
       "\n",
       "    latitude  longitude        room_type  price  minimum_nights  \\\n",
       "0  41.405560    2.17262  Entire home/apt  257.0               1   \n",
       "1  41.412432    2.21975  Entire home/apt  249.0               3   \n",
       "2  41.405660    2.17015  Entire home/apt  240.0               1   \n",
       "3  41.380620    2.17517  Entire home/apt  229.0               5   \n",
       "4  41.379780    2.17623  Entire home/apt  450.0               5   \n",
       "\n",
       "   number_of_reviews last_review  reviews_per_month  \\\n",
       "0                 41  2024-05-02               0.30   \n",
       "1                 78  2024-05-20               0.48   \n",
       "2                121  2024-06-05               0.77   \n",
       "3                 13  2024-05-06               0.08   \n",
       "4                234  2024-06-03               1.40   \n",
       "\n",
       "   calculated_host_listings_count  availability_365  number_of_reviews_ltm  \\\n",
       "0                              27               177                      5   \n",
       "1                               1               178                      7   \n",
       "2                               2               204                     30   \n",
       "3                               3                70                      5   \n",
       "4                               3               222                     29   \n",
       "\n",
       "       license  \n",
       "0  HUTB-002062  \n",
       "1   HUTB005057  \n",
       "2  HUTB-001722  \n",
       "3       Exempt  \n",
       "4  HUTB-150671  "
      ]
     },
     "execution_count": 9,
     "metadata": {},
     "output_type": "execute_result"
    }
   ],
   "source": [
    "new_df.head()"
   ]
  },
  {
   "cell_type": "code",
   "execution_count": 10,
   "id": "91965348-204b-4604-a161-5f8d663442cb",
   "metadata": {},
   "outputs": [
    {
     "ename": "SyntaxError",
     "evalue": "invalid syntax (2563334717.py, line 1)",
     "output_type": "error",
     "traceback": [
      "\u001b[1;36m  Cell \u001b[1;32mIn[10], line 1\u001b[1;36m\u001b[0m\n\u001b[1;33m    now i will ask question that should be answered!\u001b[0m\n\u001b[1;37m        ^\u001b[0m\n\u001b[1;31mSyntaxError\u001b[0m\u001b[1;31m:\u001b[0m invalid syntax\n"
     ]
    }
   ],
   "source": [
    "now i will ask question that should be answered!\n",
    "Q1: Is the home/apartment that have min night is expensive?\n",
    "Q2: with increase of the space the price will be higher?\n",
    "Q3: which room that usually busy?\n"
   ]
  },
  {
   "cell_type": "code",
   "execution_count": 11,
   "id": "874a5026-2c59-420e-beba-7d759f537850",
   "metadata": {},
   "outputs": [
    {
     "data": {
      "text/html": [
       "<div>\n",
       "<style scoped>\n",
       "    .dataframe tbody tr th:only-of-type {\n",
       "        vertical-align: middle;\n",
       "    }\n",
       "\n",
       "    .dataframe tbody tr th {\n",
       "        vertical-align: top;\n",
       "    }\n",
       "\n",
       "    .dataframe thead th {\n",
       "        text-align: right;\n",
       "    }\n",
       "</style>\n",
       "<table border=\"1\" class=\"dataframe\">\n",
       "  <thead>\n",
       "    <tr style=\"text-align: right;\">\n",
       "      <th></th>\n",
       "      <th>latitude</th>\n",
       "      <th>longitude</th>\n",
       "      <th>room_type</th>\n",
       "      <th>minimum_nights</th>\n",
       "      <th>availability_365</th>\n",
       "      <th>price</th>\n",
       "    </tr>\n",
       "  </thead>\n",
       "  <tbody>\n",
       "    <tr>\n",
       "      <th>0</th>\n",
       "      <td>41.405560</td>\n",
       "      <td>2.17262</td>\n",
       "      <td>Entire home/apt</td>\n",
       "      <td>1</td>\n",
       "      <td>177</td>\n",
       "      <td>257.0</td>\n",
       "    </tr>\n",
       "    <tr>\n",
       "      <th>1</th>\n",
       "      <td>41.412432</td>\n",
       "      <td>2.21975</td>\n",
       "      <td>Entire home/apt</td>\n",
       "      <td>3</td>\n",
       "      <td>178</td>\n",
       "      <td>249.0</td>\n",
       "    </tr>\n",
       "    <tr>\n",
       "      <th>2</th>\n",
       "      <td>41.405660</td>\n",
       "      <td>2.17015</td>\n",
       "      <td>Entire home/apt</td>\n",
       "      <td>1</td>\n",
       "      <td>204</td>\n",
       "      <td>240.0</td>\n",
       "    </tr>\n",
       "    <tr>\n",
       "      <th>3</th>\n",
       "      <td>41.380620</td>\n",
       "      <td>2.17517</td>\n",
       "      <td>Entire home/apt</td>\n",
       "      <td>5</td>\n",
       "      <td>70</td>\n",
       "      <td>229.0</td>\n",
       "    </tr>\n",
       "    <tr>\n",
       "      <th>4</th>\n",
       "      <td>41.379780</td>\n",
       "      <td>2.17623</td>\n",
       "      <td>Entire home/apt</td>\n",
       "      <td>5</td>\n",
       "      <td>222</td>\n",
       "      <td>450.0</td>\n",
       "    </tr>\n",
       "  </tbody>\n",
       "</table>\n",
       "</div>"
      ],
      "text/plain": [
       "    latitude  longitude        room_type  minimum_nights  availability_365  \\\n",
       "0  41.405560    2.17262  Entire home/apt               1               177   \n",
       "1  41.412432    2.21975  Entire home/apt               3               178   \n",
       "2  41.405660    2.17015  Entire home/apt               1               204   \n",
       "3  41.380620    2.17517  Entire home/apt               5                70   \n",
       "4  41.379780    2.17623  Entire home/apt               5               222   \n",
       "\n",
       "   price  \n",
       "0  257.0  \n",
       "1  249.0  \n",
       "2  240.0  \n",
       "3  229.0  \n",
       "4  450.0  "
      ]
     },
     "execution_count": 11,
     "metadata": {},
     "output_type": "execute_result"
    }
   ],
   "source": [
    "ans_df = df[['latitude', 'longitude', 'room_type', 'minimum_nights', 'availability_365', 'price']]\n",
    "ans_df.head()"
   ]
  },
  {
   "cell_type": "code",
   "execution_count": 12,
   "id": "77ba3895-c2da-448e-a74b-7efdf4d07182",
   "metadata": {},
   "outputs": [
    {
     "data": {
      "text/plain": [
       "'The r-squared score for your model was 0.033076928440168296 on 4557 values.'"
      ]
     },
     "execution_count": 12,
     "metadata": {},
     "output_type": "execute_result"
    }
   ],
   "source": [
    "num_vars = ans_df[['price', 'latitude', 'longitude', 'room_type', 'minimum_nights', 'availability_365']]\n",
    "df_dropna = num_vars.dropna(axis=0)\n",
    "\n",
    "#Split into explanatory and response variables\n",
    "X = df_dropna[['latitude', 'longitude', 'minimum_nights', 'availability_365']]\n",
    "y = df_dropna['price']\n",
    "\n",
    "#Split into train and test\n",
    "X_train, X_test, y_train, y_test = train_test_split(X, y, test_size = .30, random_state=42) \n",
    "\n",
    "lm_model = LinearRegression() # Instantiate\n",
    "lm_model.fit(X_train, y_train) #Fit\n",
    "        \n",
    "#Predict and score the model\n",
    "y_test_preds = lm_model.predict(X_test) \n",
    "\"The r-squared score for your model was {} on {} values.\".format(r2_score(y_test, y_test_preds), len(y_test))"
   ]
  },
  {
   "cell_type": "code",
   "execution_count": 13,
   "id": "91d09eb4-5ab9-470a-9ebc-40315a48ea54",
   "metadata": {},
   "outputs": [],
   "source": [
    "#Pull a list of the column names of the categorical variables\n",
    "cat_cols_lst = ans_df.columns\n",
    "\n",
    "def create_dummy_df(df, cat_cols, dummy_na):\n",
    "    '''\n",
    "    INPUT:\n",
    "    df - pandas dataframe with categorical variables you want to dummy\n",
    "    cat_cols - list of strings that are associated with names of the categorical columns\n",
    "    dummy_na - Bool holding whether you want to dummy NA vals of categorical columns or not\n",
    "    \n",
    "    OUTPUT:\n",
    "    df - a new dataframe that has the following characteristics:\n",
    "            1. contains all columns that were not specified as categorical\n",
    "            2. removes all the original columns in cat_cols\n",
    "            3. dummy columns for each of the categorical columns in cat_cols\n",
    "            4. if dummy_na is True - it also contains dummy columns for the NaN values\n",
    "            5. Use a prefix of the column name with an underscore (_) for separating \n",
    "    '''\n",
    "    for col in  cat_cols:\n",
    "        try:\n",
    "            # for each cat add dummy var, drop original column\n",
    "            df = pd.concat([df.drop(col, axis=1), pd.get_dummies(df[col], prefix=col, prefix_sep='_', drop_first=True, dummy_na=dummy_na)], axis=1)\n",
    "        except:\n",
    "            continue\n",
    "    return df"
   ]
  },
  {
   "cell_type": "code",
   "execution_count": 14,
   "id": "e3051395-0f2e-424e-8d06-82820ba08265",
   "metadata": {},
   "outputs": [
    {
     "name": "stdout",
     "output_type": "stream",
     "text": [
      "(15189, 24143)\n"
     ]
    }
   ],
   "source": [
    "#Dropping where the price has missing values\n",
    "df  = df.dropna(subset=['price'], axis=0)\n",
    "\n",
    "#Pull a list of the column names of the categorical variables\n",
    "cat_df = df.select_dtypes(include=['object'])\n",
    "cat_cols_lst = cat_df.columns\n",
    "\n",
    "df_new = create_dummy_df(df, cat_cols_lst, dummy_na=False) #Use your newly created function\n",
    "\n",
    "# Show a header of df_new to check\n",
    "print(df_new.shape)"
   ]
  },
  {
   "cell_type": "code",
   "execution_count": null,
   "id": "958189f4-0ea4-49ac-88b2-8667cfdfd8b6",
   "metadata": {},
   "outputs": [],
   "source": []
  },
  {
   "cell_type": "code",
   "execution_count": 15,
   "id": "8d11389c-86d0-4750-9974-15301795f488",
   "metadata": {},
   "outputs": [
    {
     "data": {
      "text/plain": [
       "<Axes: xlabel='minimum_nights', ylabel='price'>"
      ]
     },
     "execution_count": 15,
     "metadata": {},
     "output_type": "execute_result"
    },
    {
     "data": {
      "image/png": "[encoded data removed]",
      "text/plain": [
       "<Figure size 640x480 with 1 Axes>"
      ]
     },
     "metadata": {},
     "output_type": "display_data"
    }
   ],
   "source": [
    "#answer Q1\n",
    "# Scatter plot of price vs. minimum nights\n",
    "sns.scatterplot(x='minimum_nights', y='price', data=df_dropna)\n",
    "\n"
   ]
  },
  {
   "cell_type": "code",
   "execution_count": null,
   "id": "91813bdf-3727-4d69-81a1-650f39d07915",
   "metadata": {},
   "outputs": [],
   "source": []
  },
  {
   "cell_type": "code",
   "execution_count": null,
   "id": "cc81af70-23af-4e37-b72a-b4310c1a0be7",
   "metadata": {},
   "outputs": [],
   "source": []
  },
  {
   "cell_type": "code",
   "execution_count": 17,
   "id": "2d8ab2ae-94c5-4d7b-909f-fcbfbb70e882",
   "metadata": {},
   "outputs": [
    {
     "data": {
      "text/plain": [
       "<Axes: xlabel='latitude', ylabel='price'>"
      ]
     },
     "execution_count": 17,
     "metadata": {},
     "output_type": "execute_result"
    },
    {
     "data": {
      "image/png": "[encoded data removed]",
      "text/plain": [
       "<Figure size 640x480 with 1 Axes>"
      ]
     },
     "metadata": {},
     "output_type": "display_data"
    }
   ],
   "source": [
    "# answer Q2\n",
    "\n",
    "sns.scatterplot(x='latitude', y='price', data=df_dropna)\n",
    "\n",
    "\n"
   ]
  },
  {
   "cell_type": "code",
   "execution_count": null,
   "id": "acf01fed-854b-4b68-81a7-c57d12c6a1a7",
   "metadata": {},
   "outputs": [],
   "source": []
  },
  {
   "cell_type": "code",
   "execution_count": 18,
   "id": "e9d8e063-d751-46d2-b833-7384e9cd5051",
   "metadata": {},
   "outputs": [
    {
     "data": {
      "text/plain": [
       "<Axes: xlabel='room_type', ylabel='availability_365'>"
      ]
     },
     "execution_count": 18,
     "metadata": {},
     "output_type": "execute_result"
    },
    {
     "data": {
      "image/png": "[encoded data removed]",
      "text/plain": [
       "<Figure size 640x480 with 1 Axes>"
      ]
     },
     "metadata": {},
     "output_type": "display_data"
    }
   ],
   "source": [
    "#answer Q3\n",
    "\n",
    "sns.boxplot(x='room_type', y='availability_365', data=df)\n",
    "\n",
    "\n"
   ]
  },
  {
   "cell_type": "code",
   "execution_count": 20,
   "id": "4a4ac654-3b08-4de4-ac42-9b4363302201",
   "metadata": {},
   "outputs": [
    {
     "data": {
      "text/plain": [
       "<Axes: xlabel='room_type', ylabel='availability_365'>"
      ]
     },
     "execution_count": 20,
     "metadata": {},
     "output_type": "execute_result"
    },
    {
     "data": {
      "image/png": "[encoded data removed]",
      "text/plain": [
       "<Figure size 640x480 with 1 Axes>"
      ]
     },
     "metadata": {},
     "output_type": "display_data"
    }
   ],
   "source": [
    "# Bar plot to show average availability by room type\n",
    "room_availability = df.groupby('room_type')['availability_365'].mean().reset_index()\n",
    "sns.barplot(x='room_type', y='availability_365', data=room_availability)\n"
   ]
  },
  {
   "cell_type": "code",
   "execution_count": null,
   "id": "d116d45e-6ddf-46c8-8de0-aed6f5794412",
   "metadata": {},
   "outputs": [],
   "source": [
    "#analysis & conclusion \n",
    "#Q1\n",
    "\n",
    "#I created a scatter plot of price vs. minimum_nights and a boxplot showing the distribution of prices based on quartiles of minimum_nights.\n",
    "#The scatter plot shows how the price varies with the minimum number of nights required to book a property.\n",
    "\n",
    "#Conclusion:\n",
    "\n",
    "#If there’s no clear upward trend in the scatter plot, this suggests that the minimum number of nights required doesn’t significantly impact the price.\n"
   ]
  },
  {
   "cell_type": "code",
   "execution_count": null,
   "id": "2173aa7a-b394-4223-9292-16c5b5cbc384",
   "metadata": {},
   "outputs": [],
   "source": []
  },
  {
   "cell_type": "code",
   "execution_count": null,
   "id": "ff122f67-a711-4ebf-a62c-bc947e991c26",
   "metadata": {},
   "outputs": [],
   "source": [
    "#analysis & conclusion \n",
    "#Q2\n",
    "\n",
    "#dataset doesn't explicitly have a \"space\" variable, latitude and longitude might be proxies for location or the extent of a geographic area.\n",
    "\n",
    "#Conclusion:\n",
    "\n",
    "#Scatter Plots: If you observe that prices increase with latitude or longitude in a particular direction, it could suggest that properties in certain areas (north/south or east/west) are more expensive, which might be indirectly related to space or location desirability.\n",
    "#If no clear pattern emerges, it might suggest that price isn't strongly correlated with geographic space as captured by latitude and longitude alone."
   ]
  },
  {
   "cell_type": "code",
   "execution_count": null,
   "id": "f83cba33-7e97-4e8c-97ac-11574a51860a",
   "metadata": {},
   "outputs": [],
   "source": []
  },
  {
   "cell_type": "code",
   "execution_count": null,
   "id": "1ed51a11-c1ec-4321-ad16-defd6bf43b98",
   "metadata": {},
   "outputs": [],
   "source": [
    "#analysis & conclusion \n",
    "#Q3\n",
    "\n",
    "#I used boxplots to visualize the distribution of availability (availability_365) by room type and calculated the average availability for each room type.\n",
    "\n",
    "#Conclusion:\n",
    "\n",
    "#Boxplot and Bar Plot: If certain room types (e.g., entire home/apt, private room, shared room) have lower average availability, this indicates they are more frequently booked and thus busier.\n",
    "#For example, if private room has significantly lower average availability than shared room, it suggests that private room is more in demand and hence busier."
   ]
  },
  {
   "cell_type": "code",
   "execution_count": null,
   "id": "d449e191-c6bb-4e94-ae91-877d4ad60ce7",
   "metadata": {},
   "outputs": [],
   "source": []
  }
 ],
 "metadata": {
  "kernelspec": {
   "display_name": "Python 3 (ipykernel)",
   "language": "python",
   "name": "python3"
  },
  "language_info": {
   "codemirror_mode": {
    "name": "ipython",
    "version": 3
   },
   "file_extension": ".py",
   "mimetype": "text/x-python",
   "name": "python",
   "nbconvert_exporter": "python",
   "pygments_lexer": "ipython3",
   "version": "3.11.7"
  }
 },
 "nbformat": 4,
 "nbformat_minor": 5
}
